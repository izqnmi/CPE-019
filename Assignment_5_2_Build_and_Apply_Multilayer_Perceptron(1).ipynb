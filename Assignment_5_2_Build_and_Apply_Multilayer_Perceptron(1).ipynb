{
  "nbformat": 4,
  "nbformat_minor": 0,
  "metadata": {
    "colab": {
      "provenance": []
    },
    "kernelspec": {
      "name": "python3",
      "display_name": "Python 3"
    },
    "language_info": {
      "name": "python"
    }
  },
  "cells": [
    {
      "cell_type": "markdown",
      "source": [
        "ASSIGNMENT 5.2 | Build and Apply Multilayer Perceptron\n",
        "--- | ---\n",
        "Name: | **Feliciano, Kurt Martin**<br>\n",
        "Course and Section: | **CPE 019 - CPE32S3**<br>\n",
        "Date Performed: | **03-24-2024**<br>\n",
        "Date Submitted: | **03-26-2024**<br>\n",
        "Instructor: | **Engr. Roman Richard**<br>\n",
        "<hr> | <hr>"
      ],
      "metadata": {
        "id": "B--ff0WUZc4U"
      }
    },
    {
      "cell_type": "code",
      "source": [
        "## REFERENCE FOR THIS ACTIVITY : https://www.geeksforgeeks.org/classification-using-sklearn-multi-layer-perceptron/"
      ],
      "metadata": {
        "id": "zoRGleUIZ8xb"
      },
      "execution_count": null,
      "outputs": []
    },
    {
      "cell_type": "code",
      "source": [
        "# install necessary package for data\n",
        "pip install ucimlrepo"
      ],
      "metadata": {
        "colab": {
          "base_uri": "https://localhost:8080/"
        },
        "id": "n_9Vl2bxFzLn",
        "outputId": "4f10e41b-9b6b-4b9c-e010-6af0bc8838ed"
      },
      "execution_count": null,
      "outputs": [
        {
          "output_type": "stream",
          "name": "stdout",
          "text": [
            "Collecting ucimlrepo\n",
            "  Downloading ucimlrepo-0.0.6-py3-none-any.whl (8.0 kB)\n",
            "Installing collected packages: ucimlrepo\n",
            "Successfully installed ucimlrepo-0.0.6\n"
          ]
        }
      ]
    },
    {
      "cell_type": "code",
      "execution_count": null,
      "metadata": {
        "id": "S4WwhYbgo3A7"
      },
      "outputs": [],
      "source": [
        "# import necessary libraries to be used\n",
        "from ucimlrepo import fetch_ucirepo\n",
        "from sklearn.neural_network import MLPClassifier\n",
        "from sklearn.model_selection import train_test_split\n",
        "from sklearn.preprocessing import StandardScaler\n",
        "from sklearn.metrics import accuracy_score, classification_report"
      ]
    },
    {
      "cell_type": "code",
      "source": [
        "# fetch the dataset from the source\n",
        "# source : https://archive.ics.uci.edu/dataset/602/dry+bean+dataset\n",
        "drybean = fetch_ucirepo(id=602)\n",
        "\n",
        "# data sorted as features and targets accordingly\n",
        "X, y= drybean.data.features, drybean.data.targets"
      ],
      "metadata": {
        "id": "2YWfh7s-GywU"
      },
      "execution_count": null,
      "outputs": []
    },
    {
      "cell_type": "code",
      "source": [
        "# classify training and testing data\n",
        "X_train, X_test, y_train, y_test = train_test_split(X, y, test_size=0.2, random_state=35)\n",
        "\n",
        "# standardize features\n",
        "scaler = StandardScaler()\n",
        "X_train = scaler.fit_transform(X_train)\n",
        "X_test = scaler.transform(X_test)\n",
        "\n",
        "# create the model\n",
        "mlp = MLPClassifier(hidden_layer_sizes=(64, 32), max_iter=1000, random_state=42)\n",
        "\n",
        "# fit the data into the model\n",
        "mlp.fit(X_train, y_train)\n",
        "\n",
        "# create predictions on the test data\n",
        "y_pred = mlp.predict(X_test)\n",
        "\n",
        "# calculate for the accuracy of the model\n",
        "accuracy = accuracy_score(y_test, y_pred)\n",
        "print(f\"Accuracy: {accuracy:.2f}\")"
      ],
      "metadata": {
        "colab": {
          "base_uri": "https://localhost:8080/"
        },
        "id": "iOIDIrFnHXfm",
        "outputId": "5abde87d-7f03-44e2-ad8c-13ff4ff0b85e"
      },
      "execution_count": null,
      "outputs": [
        {
          "output_type": "stream",
          "name": "stderr",
          "text": [
            "/usr/local/lib/python3.10/dist-packages/sklearn/neural_network/_multilayer_perceptron.py:1098: DataConversionWarning: A column-vector y was passed when a 1d array was expected. Please change the shape of y to (n_samples, ), for example using ravel().\n",
            "  y = column_or_1d(y, warn=True)\n"
          ]
        },
        {
          "output_type": "stream",
          "name": "stdout",
          "text": [
            "Accuracy: 0.94\n"
          ]
        }
      ]
    },
    {
      "cell_type": "code",
      "source": [
        "# generate a classification report\n",
        "class_report = classification_report(y_test, y_pred)\n",
        "print(\"Classification Report:\\n\", class_report)"
      ],
      "metadata": {
        "colab": {
          "base_uri": "https://localhost:8080/"
        },
        "id": "xTQ_sNIgQDzo",
        "outputId": "fad6fc69-b8df-43d3-d0ec-5456ddc9ee5c"
      },
      "execution_count": null,
      "outputs": [
        {
          "output_type": "stream",
          "name": "stdout",
          "text": [
            "Classification Report:\n",
            "               precision    recall  f1-score   support\n",
            "\n",
            "    BARBUNYA       0.96      0.94      0.95       253\n",
            "      BOMBAY       1.00      1.00      1.00       100\n",
            "        CALI       0.96      0.97      0.96       316\n",
            "    DERMASON       0.92      0.93      0.93       691\n",
            "       HOROZ       0.97      0.95      0.96       412\n",
            "       SEKER       0.96      0.97      0.96       406\n",
            "        SIRA       0.89      0.89      0.89       545\n",
            "\n",
            "    accuracy                           0.94      2723\n",
            "   macro avg       0.95      0.95      0.95      2723\n",
            "weighted avg       0.94      0.94      0.94      2723\n",
            "\n"
          ]
        }
      ]
    }
  ]
}