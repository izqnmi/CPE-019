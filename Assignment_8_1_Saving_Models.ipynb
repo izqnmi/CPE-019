{
  "nbformat": 4,
  "nbformat_minor": 0,
  "metadata": {
    "colab": {
      "provenance": []
    },
    "kernelspec": {
      "name": "python3",
      "display_name": "Python 3"
    },
    "language_info": {
      "name": "python"
    }
  },
  "cells": [
    {
      "cell_type": "markdown",
      "source": [
        "ASSIGNMENT 8.1 | SAVING MODELS\n",
        "--- | ---\n",
        "Name: |  **Feliciano, Kurt**<br>\n",
        "Course and Section: | **CPE 019 - CPE32S3**<br>\n",
        "Date Submitted: | **04-19-2024**<br>\n",
        "Instructor: | **Engr. Roman Richard**<br>\n",
        "<hr> | <hr>\n"
      ],
      "metadata": {
        "id": "jlRAUb3clIZv"
      }
    },
    {
      "cell_type": "code",
      "execution_count": null,
      "metadata": {
        "id": "SOuEUK7UVF6J"
      },
      "outputs": [],
      "source": [
        "!pip install h5py\n",
        "!pip install ucimlrepo\n",
        "!pip install scikeras"
      ]
    },
    {
      "cell_type": "code",
      "source": [
        "from google.colab import drive\n",
        "drive.mount('/content/drive')"
      ],
      "metadata": {
        "colab": {
          "base_uri": "https://localhost:8080/"
        },
        "id": "jqtwELwjX67j",
        "outputId": "5fc253ef-cea8-4eed-930d-6e1298d4f2af"
      },
      "execution_count": null,
      "outputs": [
        {
          "output_type": "stream",
          "name": "stdout",
          "text": [
            "Drive already mounted at /content/drive; to attempt to forcibly remount, call drive.mount(\"/content/drive\", force_remount=True).\n"
          ]
        }
      ]
    },
    {
      "cell_type": "code",
      "source": [
        "# import necessary libraries\n",
        "import numpy\n",
        "import os\n",
        "from ucimlrepo import fetch_ucirepo\n",
        "from sklearn.neural_network import MLPClassifier\n",
        "from sklearn.model_selection import train_test_split\n",
        "from sklearn.preprocessing import StandardScaler\n",
        "from sklearn.metrics import accuracy_score, classification_report\n",
        "from sklearn.metrics import confusion_matrix, precision_recall_curve, roc_auc_score, roc_curve, accuracy_score\n",
        "from sklearn.ensemble import RandomForestClassifier\n",
        "from keras.models  import Sequential, model_from_json\n",
        "from keras.layers import Input, Dense, Flatten, Dropout, BatchNormalization\n",
        "from keras.optimizers import Adam, SGD, RMSprop\n",
        "import numpy as np\n",
        "import matplotlib.pyplot as plt\n",
        "import tensorflow as tf\n",
        "from scikeras.wrappers import KerasClassifier, KerasRegressor\n",
        "from sklearn.model_selection import cross_val_score\n",
        "from sklearn.preprocessing import LabelEncoder\n",
        "from sklearn.model_selection import KFold\n",
        "from sklearn.pipeline import Pipeline"
      ],
      "metadata": {
        "id": "Tp73-7h7Xu9F"
      },
      "execution_count": null,
      "outputs": []
    },
    {
      "cell_type": "code",
      "source": [
        "# fetch dataset\n",
        "breastCancer = fetch_ucirepo(id=17)\n",
        "\n",
        "# data (as pandas dataframes)\n",
        "X = breastCancer.data.features\n",
        "y = breastCancer.data.targets"
      ],
      "metadata": {
        "id": "wr82z5n9b_OJ"
      },
      "execution_count": null,
      "outputs": []
    },
    {
      "cell_type": "code",
      "source": [
        "X.info()"
      ],
      "metadata": {
        "colab": {
          "base_uri": "https://localhost:8080/"
        },
        "id": "obwQ5TGtcLX4",
        "outputId": "ce52328e-4941-4bea-d1f3-be70a7d185a4"
      },
      "execution_count": null,
      "outputs": [
        {
          "output_type": "stream",
          "name": "stdout",
          "text": [
            "<class 'pandas.core.frame.DataFrame'>\n",
            "RangeIndex: 569 entries, 0 to 568\n",
            "Data columns (total 30 columns):\n",
            " #   Column              Non-Null Count  Dtype  \n",
            "---  ------              --------------  -----  \n",
            " 0   radius1             569 non-null    float64\n",
            " 1   texture1            569 non-null    float64\n",
            " 2   perimeter1          569 non-null    float64\n",
            " 3   area1               569 non-null    float64\n",
            " 4   smoothness1         569 non-null    float64\n",
            " 5   compactness1        569 non-null    float64\n",
            " 6   concavity1          569 non-null    float64\n",
            " 7   concave_points1     569 non-null    float64\n",
            " 8   symmetry1           569 non-null    float64\n",
            " 9   fractal_dimension1  569 non-null    float64\n",
            " 10  radius2             569 non-null    float64\n",
            " 11  texture2            569 non-null    float64\n",
            " 12  perimeter2          569 non-null    float64\n",
            " 13  area2               569 non-null    float64\n",
            " 14  smoothness2         569 non-null    float64\n",
            " 15  compactness2        569 non-null    float64\n",
            " 16  concavity2          569 non-null    float64\n",
            " 17  concave_points2     569 non-null    float64\n",
            " 18  symmetry2           569 non-null    float64\n",
            " 19  fractal_dimension2  569 non-null    float64\n",
            " 20  radius3             569 non-null    float64\n",
            " 21  texture3            569 non-null    float64\n",
            " 22  perimeter3          569 non-null    float64\n",
            " 23  area3               569 non-null    float64\n",
            " 24  smoothness3         569 non-null    float64\n",
            " 25  compactness3        569 non-null    float64\n",
            " 26  concavity3          569 non-null    float64\n",
            " 27  concave_points3     569 non-null    float64\n",
            " 28  symmetry3           569 non-null    float64\n",
            " 29  fractal_dimension3  569 non-null    float64\n",
            "dtypes: float64(30)\n",
            "memory usage: 133.5 KB\n"
          ]
        }
      ]
    },
    {
      "cell_type": "code",
      "source": [
        "y.info()"
      ],
      "metadata": {
        "colab": {
          "base_uri": "https://localhost:8080/"
        },
        "id": "glOLgTyGeYOo",
        "outputId": "5fc63db1-6a2d-475d-f2ff-ae8525e132da"
      },
      "execution_count": null,
      "outputs": [
        {
          "output_type": "stream",
          "name": "stdout",
          "text": [
            "<class 'pandas.core.frame.DataFrame'>\n",
            "RangeIndex: 569 entries, 0 to 568\n",
            "Data columns (total 1 columns):\n",
            " #   Column     Non-Null Count  Dtype \n",
            "---  ------     --------------  ----- \n",
            " 0   Diagnosis  569 non-null    object\n",
            "dtypes: object(1)\n",
            "memory usage: 4.6+ KB\n"
          ]
        }
      ]
    },
    {
      "cell_type": "code",
      "source": [
        "X.isnull().sum()"
      ],
      "metadata": {
        "colab": {
          "base_uri": "https://localhost:8080/"
        },
        "id": "-gyGAOX0sYx6",
        "outputId": "b9db09f5-8f97-415f-af2a-a4daca526f51"
      },
      "execution_count": null,
      "outputs": [
        {
          "output_type": "execute_result",
          "data": {
            "text/plain": [
              "radius1               0\n",
              "texture1              0\n",
              "perimeter1            0\n",
              "area1                 0\n",
              "smoothness1           0\n",
              "compactness1          0\n",
              "concavity1            0\n",
              "concave_points1       0\n",
              "symmetry1             0\n",
              "fractal_dimension1    0\n",
              "radius2               0\n",
              "texture2              0\n",
              "perimeter2            0\n",
              "area2                 0\n",
              "smoothness2           0\n",
              "compactness2          0\n",
              "concavity2            0\n",
              "concave_points2       0\n",
              "symmetry2             0\n",
              "fractal_dimension2    0\n",
              "radius3               0\n",
              "texture3              0\n",
              "perimeter3            0\n",
              "area3                 0\n",
              "smoothness3           0\n",
              "compactness3          0\n",
              "concavity3            0\n",
              "concave_points3       0\n",
              "symmetry3             0\n",
              "fractal_dimension3    0\n",
              "dtype: int64"
            ]
          },
          "metadata": {},
          "execution_count": 70
        }
      ]
    },
    {
      "cell_type": "code",
      "source": [
        "map = {'B': 0, 'M': 1}\n",
        "y['Diagnosis'] = y['Diagnosis'].map(map)"
      ],
      "metadata": {
        "colab": {
          "base_uri": "https://localhost:8080/"
        },
        "id": "-BSirjJwwyh0",
        "outputId": "6e5bbca6-c639-4ced-e26b-18ee90467697"
      },
      "execution_count": null,
      "outputs": [
        {
          "output_type": "stream",
          "name": "stderr",
          "text": [
            "<ipython-input-71-ee363d5d8467>:2: SettingWithCopyWarning: \n",
            "A value is trying to be set on a copy of a slice from a DataFrame.\n",
            "Try using .loc[row_indexer,col_indexer] = value instead\n",
            "\n",
            "See the caveats in the documentation: https://pandas.pydata.org/pandas-docs/stable/user_guide/indexing.html#returning-a-view-versus-a-copy\n",
            "  y['Diagnosis'] = y['Diagnosis'].map(map)\n"
          ]
        }
      ]
    },
    {
      "cell_type": "markdown",
      "source": [
        "Observations :\n",
        "- No missing values, which means I don't have to use the mean of the values of that specific column to fill for them.\n",
        "- The values for the Diagnosis column in y has the values of B and M, Benign and Malginant, and I have replaced those with 0 and 1, respectively."
      ],
      "metadata": {
        "id": "7iV8ZXDGzTu0"
      }
    },
    {
      "cell_type": "code",
      "source": [
        "# classify training and testing data\n",
        "X_train, X_test, y_train, y_test = train_test_split(X, y, test_size=0.2, random_state=11111)\n",
        "\n",
        "# standardize features\n",
        "scaler = StandardScaler()\n",
        "X_train_norm = scaler.fit_transform(X_train)\n",
        "X_test_norm = scaler.transform(X_test)"
      ],
      "metadata": {
        "id": "lNwAtmnjhXFH"
      },
      "execution_count": null,
      "outputs": []
    },
    {
      "cell_type": "code",
      "source": [
        "model = Sequential([\n",
        "    Dense(30, activation=\"relu\",  input_shape=(30,)),\n",
        "    Dense(30, activation=\"relu\"),\n",
        "    Dense(1, activation=\"sigmoid\")\n",
        "])\n",
        "\n",
        "adam_opt = Adam(learning_rate = 0.1)\n",
        "model.compile(optimizer=adam_opt, loss='binary_crossentropy', metrics=['accuracy'])\n",
        "getModel = model.fit(X_train_norm, y_train, epochs=10, batch_size=500, validation_split = 0.2)"
      ],
      "metadata": {
        "colab": {
          "base_uri": "https://localhost:8080/"
        },
        "id": "CQ-qxBwXdw0f",
        "outputId": "56b9f039-22cc-4588-8d5b-3f290c3aee02"
      },
      "execution_count": null,
      "outputs": [
        {
          "output_type": "stream",
          "name": "stdout",
          "text": [
            "Epoch 1/10\n"
          ]
        },
        {
          "output_type": "stream",
          "name": "stderr",
          "text": [
            "/usr/local/lib/python3.10/dist-packages/keras/src/layers/core/dense.py:86: UserWarning: Do not pass an `input_shape`/`input_dim` argument to a layer. When using Sequential models, prefer using an `Input(shape)` object as the first layer in the model instead.\n",
            "  super().__init__(activity_regularizer=activity_regularizer, **kwargs)\n"
          ]
        },
        {
          "output_type": "stream",
          "name": "stdout",
          "text": [
            "\u001b[1m1/1\u001b[0m \u001b[32m━━━━━━━━━━━━━━━━━━━━\u001b[0m\u001b[37m\u001b[0m \u001b[1m1s\u001b[0m 1s/step - accuracy: 0.4643 - loss: 0.7516 - val_accuracy: 0.9121 - val_loss: 0.2647\n",
            "Epoch 2/10\n",
            "\u001b[1m1/1\u001b[0m \u001b[32m━━━━━━━━━━━━━━━━━━━━\u001b[0m\u001b[37m\u001b[0m \u001b[1m0s\u001b[0m 119ms/step - accuracy: 0.9066 - loss: 0.2385 - val_accuracy: 0.9121 - val_loss: 0.1963\n",
            "Epoch 3/10\n",
            "\u001b[1m1/1\u001b[0m \u001b[32m━━━━━━━━━━━━━━━━━━━━\u001b[0m\u001b[37m\u001b[0m \u001b[1m0s\u001b[0m 58ms/step - accuracy: 0.9560 - loss: 0.1290 - val_accuracy: 0.9670 - val_loss: 0.0970\n",
            "Epoch 4/10\n",
            "\u001b[1m1/1\u001b[0m \u001b[32m━━━━━━━━━━━━━━━━━━━━\u001b[0m\u001b[37m\u001b[0m \u001b[1m0s\u001b[0m 137ms/step - accuracy: 0.9643 - loss: 0.1009 - val_accuracy: 0.9780 - val_loss: 0.1084\n",
            "Epoch 5/10\n",
            "\u001b[1m1/1\u001b[0m \u001b[32m━━━━━━━━━━━━━━━━━━━━\u001b[0m\u001b[37m\u001b[0m \u001b[1m0s\u001b[0m 62ms/step - accuracy: 0.9808 - loss: 0.0832 - val_accuracy: 0.9780 - val_loss: 0.1259\n",
            "Epoch 6/10\n",
            "\u001b[1m1/1\u001b[0m \u001b[32m━━━━━━━━━━━━━━━━━━━━\u001b[0m\u001b[37m\u001b[0m \u001b[1m0s\u001b[0m 59ms/step - accuracy: 0.9835 - loss: 0.0909 - val_accuracy: 0.9780 - val_loss: 0.1305\n",
            "Epoch 7/10\n",
            "\u001b[1m1/1\u001b[0m \u001b[32m━━━━━━━━━━━━━━━━━━━━\u001b[0m\u001b[37m\u001b[0m \u001b[1m0s\u001b[0m 58ms/step - accuracy: 0.9863 - loss: 0.0759 - val_accuracy: 0.9780 - val_loss: 0.1257\n",
            "Epoch 8/10\n",
            "\u001b[1m1/1\u001b[0m \u001b[32m━━━━━━━━━━━━━━━━━━━━\u001b[0m\u001b[37m\u001b[0m \u001b[1m0s\u001b[0m 145ms/step - accuracy: 0.9863 - loss: 0.0522 - val_accuracy: 0.9670 - val_loss: 0.1165\n",
            "Epoch 9/10\n",
            "\u001b[1m1/1\u001b[0m \u001b[32m━━━━━━━━━━━━━━━━━━━━\u001b[0m\u001b[37m\u001b[0m \u001b[1m0s\u001b[0m 56ms/step - accuracy: 0.9835 - loss: 0.0402 - val_accuracy: 0.9670 - val_loss: 0.1126\n",
            "Epoch 10/10\n",
            "\u001b[1m1/1\u001b[0m \u001b[32m━━━━━━━━━━━━━━━━━━━━\u001b[0m\u001b[37m\u001b[0m \u001b[1m0s\u001b[0m 139ms/step - accuracy: 0.9835 - loss: 0.0434 - val_accuracy: 0.9780 - val_loss: 0.1188\n"
          ]
        }
      ]
    },
    {
      "cell_type": "markdown",
      "source": [
        "Observations :     \n",
        "- Followed similar procedures to former activities, encountered some errors on a dataset I tried to use before this one.\n",
        "- Did not perform KFold as the base accuracy seems high enough for me not to optimize it any longer."
      ],
      "metadata": {
        "id": "4ak_OLGczyAG"
      }
    },
    {
      "cell_type": "markdown",
      "source": [
        "<h2> <b> == SAVING THE MODEL AS HDF5 =="
      ],
      "metadata": {
        "id": "tX8wK2B9RxP5"
      }
    },
    {
      "cell_type": "code",
      "source": [
        "from keras.models import load_model"
      ],
      "metadata": {
        "id": "XlIXTvkoR75L"
      },
      "execution_count": null,
      "outputs": []
    },
    {
      "cell_type": "code",
      "source": [
        "scores = model.evaluate(X_test_norm, y_test, verbose=0)\n",
        "print(\"%s: %.2f%%\" % (model.metrics_names[1], scores[1]*100))\n",
        "model.save(\"model.h5\")\n",
        "print(\"Saved model to disk\")\n",
        "print(\"Loaded model from disk\")\n",
        "loaded_model = load_model('model.h5')\n",
        "print(\"%s: %.2f%%\" % (loaded_model.metrics_names[1], scores[1]*100))"
      ],
      "metadata": {
        "colab": {
          "base_uri": "https://localhost:8080/"
        },
        "id": "GSyCf5k0R0hI",
        "outputId": "e977fdfe-82c3-4fcc-b9af-707bab108801"
      },
      "execution_count": null,
      "outputs": [
        {
          "output_type": "stream",
          "name": "stderr",
          "text": [
            "WARNING:absl:You are saving your model as an HDF5 file via `model.save()` or `keras.saving.save_model(model)`. This file format is considered legacy. We recommend using instead the native Keras format, e.g. `model.save('my_model.keras')` or `keras.saving.save_model(model, 'my_model.keras')`. \n",
            "WARNING:absl:Compiled the loaded model, but the compiled metrics have yet to be built. `model.compile_metrics` will be empty until you train or evaluate the model.\n"
          ]
        },
        {
          "output_type": "stream",
          "name": "stdout",
          "text": [
            "compile_metrics: 96.49%\n",
            "Saved model to disk\n",
            "Loaded model from disk\n",
            "compile_metrics: 96.49%\n"
          ]
        }
      ]
    },
    {
      "cell_type": "markdown",
      "source": [
        "<h2> <b>== SAVING THE MODEL AS JSON =="
      ],
      "metadata": {
        "id": "LgU65Bnd0d-A"
      }
    },
    {
      "cell_type": "code",
      "source": [
        "from keras.models import model_from_json"
      ],
      "metadata": {
        "id": "NLqqrXlqIfT0"
      },
      "execution_count": null,
      "outputs": []
    },
    {
      "cell_type": "code",
      "source": [
        "scores = model.evaluate(X_test_norm, y_test, verbose=0)\n",
        "print(\"%s: %.2f%%\" % (model.metrics_names[1], scores[1]*100))\n",
        "\n",
        "# serialize model to JSON\n",
        "model_json = model.to_json()\n",
        "with open(\"model.json\", \"w\") as json_file:\n",
        "    json_file.write(model_json)\n",
        "# serialize weights to HDF5\n",
        "model.save_weights(\"/content/drive/MyDrive/Colab Notebooks/model.weights.h5\")\n",
        "print(\"Saved model to disk\")\n",
        "\n",
        "# load json and create model\n",
        "json_file = open('model.json', 'r')\n",
        "loaded_model_json = json_file.read()\n",
        "json_file.close()\n",
        "loaded_model = model_from_json(loaded_model_json)\n",
        "# load weights into new model\n",
        "loaded_model.load_weights(\"/content/drive/MyDrive/Colab Notebooks/model.weights.h5\")\n",
        "print(\"Loaded model from disk\")\n",
        "\n",
        "# evaluate loaded model on test data\n",
        "loaded_model.compile(loss='binary_crossentropy', optimizer='rmsprop', metrics=['accuracy'])\n",
        "score = loaded_model.evaluate(X_test_norm, y_test, verbose=0)\n",
        "print(\"%s: %.2f%%\" % (loaded_model.metrics_names[1], score[1]*100))"
      ],
      "metadata": {
        "colab": {
          "base_uri": "https://localhost:8080/"
        },
        "id": "cUHWceQtIMKB",
        "outputId": "e0e18260-c858-45b7-b407-1a67acaf3590"
      },
      "execution_count": null,
      "outputs": [
        {
          "output_type": "stream",
          "name": "stdout",
          "text": [
            "compile_metrics: 96.49%\n",
            "Saved model to disk\n"
          ]
        },
        {
          "output_type": "stream",
          "name": "stderr",
          "text": [
            "/usr/local/lib/python3.10/dist-packages/keras/src/saving/saving_lib.py:418: UserWarning: Skipping variable loading for optimizer 'rmsprop', because it has 8 variables whereas the saved optimizer has 14 variables. \n",
            "  trackable.load_own_variables(weights_store.get(inner_path))\n"
          ]
        },
        {
          "output_type": "stream",
          "name": "stdout",
          "text": [
            "Loaded model from disk\n",
            "compile_metrics: 96.49%\n"
          ]
        }
      ]
    },
    {
      "cell_type": "markdown",
      "source": [
        "<h2> <b> == SAVING THE MODEL AS YAML =="
      ],
      "metadata": {
        "id": "ok0uzSU5JLxw"
      }
    },
    {
      "cell_type": "code",
      "source": [
        "scores = model.evaluate(X_test_norm, y_test, verbose=0)\n",
        "print(\"%s: %.2f%%\" % (model.metrics_names[1], scores[1]*100))\n",
        "\n",
        "# serialize model to YAML\n",
        "model_yaml = model.to_json()\n",
        "with open(\"model.yaml\", \"w\") as yaml_file:\n",
        "    yaml_file.write(model_yaml)\n",
        "# serialize weights to HDF5\n",
        "model.save_weights(\"/content/drive/MyDrive/Colab Notebooks/model_yaml.weights.h5\")\n",
        "print(\"Saved model to disk\")\n",
        "\n",
        "# later...\n",
        "\n",
        "# load YAML and create model\n",
        "yaml_file = open('model.yaml', 'r')\n",
        "loaded_model_yaml = yaml_file.read()\n",
        "yaml_file.close()\n",
        "loaded_model = model_from_json(loaded_model_yaml)\n",
        "# load weights into new model\n",
        "loaded_model.load_weights(\"/content/drive/MyDrive/Colab Notebooks/model_yaml.weights.h5\")\n",
        "print(\"Loaded model from disk\")\n",
        "\n",
        "# evaluate loaded model on test data\n",
        "loaded_model.compile(loss='binary_crossentropy', optimizer='rmsprop', metrics=['accuracy'])\n",
        "score = loaded_model.evaluate(X_test_norm, y_test, verbose=0)\n",
        "print(\"%s: %.2f%%\" % (loaded_model.metrics_names[1], score[1]*100))"
      ],
      "metadata": {
        "colab": {
          "base_uri": "https://localhost:8080/"
        },
        "id": "-eT0ofxWQruO",
        "outputId": "0a023fb5-c7c6-4e81-8dd4-66b4134cc503"
      },
      "execution_count": null,
      "outputs": [
        {
          "output_type": "stream",
          "name": "stdout",
          "text": [
            "compile_metrics: 96.49%\n",
            "Saved model to disk\n",
            "Loaded model from disk\n"
          ]
        },
        {
          "output_type": "stream",
          "name": "stderr",
          "text": [
            "/usr/local/lib/python3.10/dist-packages/keras/src/saving/saving_lib.py:418: UserWarning: Skipping variable loading for optimizer 'rmsprop', because it has 8 variables whereas the saved optimizer has 14 variables. \n",
            "  trackable.load_own_variables(weights_store.get(inner_path))\n"
          ]
        },
        {
          "output_type": "stream",
          "name": "stdout",
          "text": [
            "compile_metrics: 96.49%\n"
          ]
        }
      ]
    },
    {
      "cell_type": "markdown",
      "source": [
        "<h2><b> == CHECKPOINT NEURAL NETWORK MODEL IMPROVEMENTS =="
      ],
      "metadata": {
        "id": "YnsqZMjLSNV4"
      }
    },
    {
      "cell_type": "code",
      "source": [
        "from keras.callbacks import ModelCheckpoint"
      ],
      "metadata": {
        "id": "Dy97_YSTSeCX"
      },
      "execution_count": null,
      "outputs": []
    },
    {
      "cell_type": "code",
      "source": [
        "checkpoint_model = Sequential([\n",
        "    Dense(30, activation=\"relu\",  input_shape=(30,)),\n",
        "    Dense(30, activation=\"relu\"),\n",
        "    Dense(1, activation=\"sigmoid\")\n",
        "])\n",
        "\n",
        "adam_opt = Adam(learning_rate = 0.1)\n",
        "checkpoint_model.compile(optimizer=adam_opt, loss='binary_crossentropy', metrics=['accuracy'])\n",
        "\n",
        "filepath=\"weights-improvement-{epoch:02d}-{val_accuracy:.2f}.hdf5.keras\"\n",
        "checkpoint = ModelCheckpoint(filepath, monitor='val_accuracy', verbose=1, save_best_only=True, mode='max')\n",
        "callbacks_list = [checkpoint]\n",
        "\n",
        "getModel = checkpoint_model.fit(X_train_norm, y_train, validation_split=0.33, epochs=10, batch_size=500, callbacks=callbacks_list, verbose=0)"
      ],
      "metadata": {
        "colab": {
          "base_uri": "https://localhost:8080/"
        },
        "id": "U_iHcM3kSe2y",
        "outputId": "4f012e2a-ebd5-497d-b8b7-4651a92f02f4"
      },
      "execution_count": null,
      "outputs": [
        {
          "output_type": "stream",
          "name": "stderr",
          "text": [
            "/usr/local/lib/python3.10/dist-packages/keras/src/layers/core/dense.py:86: UserWarning: Do not pass an `input_shape`/`input_dim` argument to a layer. When using Sequential models, prefer using an `Input(shape)` object as the first layer in the model instead.\n",
            "  super().__init__(activity_regularizer=activity_regularizer, **kwargs)\n"
          ]
        },
        {
          "output_type": "stream",
          "name": "stdout",
          "text": [
            "\n",
            "Epoch 1: val_accuracy improved from -inf to 0.90728, saving model to weights-improvement-01-0.91.hdf5.keras\n",
            "\n",
            "Epoch 2: val_accuracy improved from 0.90728 to 0.92715, saving model to weights-improvement-02-0.93.hdf5.keras\n",
            "\n",
            "Epoch 3: val_accuracy improved from 0.92715 to 0.94040, saving model to weights-improvement-03-0.94.hdf5.keras\n",
            "\n",
            "Epoch 4: val_accuracy improved from 0.94040 to 0.96026, saving model to weights-improvement-04-0.96.hdf5.keras\n",
            "\n",
            "Epoch 5: val_accuracy did not improve from 0.96026\n",
            "\n",
            "Epoch 6: val_accuracy improved from 0.96026 to 0.98013, saving model to weights-improvement-06-0.98.hdf5.keras\n",
            "\n",
            "Epoch 7: val_accuracy did not improve from 0.98013\n",
            "\n",
            "Epoch 8: val_accuracy did not improve from 0.98013\n",
            "\n",
            "Epoch 9: val_accuracy did not improve from 0.98013\n",
            "\n",
            "Epoch 10: val_accuracy did not improve from 0.98013\n"
          ]
        }
      ]
    },
    {
      "cell_type": "markdown",
      "source": [
        "<h2> <b> == CHECKPOINT BEST NEURAL NETWORK MODEL ONLY =="
      ],
      "metadata": {
        "id": "2egny1-JT-jq"
      }
    },
    {
      "cell_type": "code",
      "source": [
        "checkpoint_best_model = Sequential([\n",
        "    Dense(30, activation=\"relu\",  input_shape=(30,)),\n",
        "    Dense(30, activation=\"relu\"),\n",
        "    Dense(1, activation=\"sigmoid\")\n",
        "])\n",
        "\n",
        "adam_opt = Adam(learning_rate = 0.1)\n",
        "checkpoint_best_model.compile(optimizer=adam_opt, loss='binary_crossentropy', metrics=['accuracy'])\n",
        "\n",
        "filepath=\"weights.best.hdf5.keras\"\n",
        "checkpoint = ModelCheckpoint(filepath, monitor='val_accuracy', verbose=1, save_best_only=True, mode='max')\n",
        "callbacks_list = [checkpoint]\n",
        "\n",
        "checkpoint_best_model.fit(X_train_norm, y_train, validation_split=0.33, epochs=10, batch_size=10, callbacks=callbacks_list, verbose=0)"
      ],
      "metadata": {
        "colab": {
          "base_uri": "https://localhost:8080/"
        },
        "id": "HGkHoVdZT-NH",
        "outputId": "17e73454-8de6-4a5c-87d2-664c2ca1a7ac"
      },
      "execution_count": null,
      "outputs": [
        {
          "output_type": "stream",
          "name": "stderr",
          "text": [
            "/usr/local/lib/python3.10/dist-packages/keras/src/layers/core/dense.py:86: UserWarning: Do not pass an `input_shape`/`input_dim` argument to a layer. When using Sequential models, prefer using an `Input(shape)` object as the first layer in the model instead.\n",
            "  super().__init__(activity_regularizer=activity_regularizer, **kwargs)\n"
          ]
        },
        {
          "output_type": "stream",
          "name": "stdout",
          "text": [
            "\n",
            "Epoch 1: val_accuracy improved from -inf to 0.90066, saving model to weights.best.hdf5.keras\n",
            "\n",
            "Epoch 2: val_accuracy improved from 0.90066 to 0.96026, saving model to weights.best.hdf5.keras\n",
            "\n",
            "Epoch 3: val_accuracy did not improve from 0.96026\n",
            "\n",
            "Epoch 4: val_accuracy did not improve from 0.96026\n",
            "\n",
            "Epoch 5: val_accuracy did not improve from 0.96026\n",
            "\n",
            "Epoch 6: val_accuracy did not improve from 0.96026\n",
            "\n",
            "Epoch 7: val_accuracy improved from 0.96026 to 0.98013, saving model to weights.best.hdf5.keras\n",
            "\n",
            "Epoch 8: val_accuracy did not improve from 0.98013\n",
            "\n",
            "Epoch 9: val_accuracy did not improve from 0.98013\n",
            "\n",
            "Epoch 10: val_accuracy did not improve from 0.98013\n"
          ]
        },
        {
          "output_type": "execute_result",
          "data": {
            "text/plain": [
              "<keras.src.callbacks.history.History at 0x7f25fea79d80>"
            ]
          },
          "metadata": {},
          "execution_count": 22
        }
      ]
    },
    {
      "cell_type": "markdown",
      "source": [
        "<h2> <b> == LOAD A SAVED NEURAL NETWORK MODEL =="
      ],
      "metadata": {
        "id": "NOFjCP_1UlBA"
      }
    },
    {
      "cell_type": "code",
      "source": [
        "loading_model = Sequential([\n",
        "    Dense(30, activation=\"relu\", kernel_initializer = 'uniform', input_shape=(30,)),\n",
        "    Dense(30, kernel_initializer = 'uniform', activation=\"relu\"),\n",
        "    Dense(1, kernel_initializer = 'uniform', activation=\"sigmoid\")\n",
        "])\n",
        "\n",
        "loading_model.load_weights(\"weights.best.hdf5\")\n",
        "\n",
        "adam_opt = Adam(learning_rate = 0.1)\n",
        "loading_model.compile(optimizer=adam_opt, loss='binary_crossentropy', metrics=['accuracy'])\n",
        "print(\"Created model and loaded weights from file\")\n",
        "\n",
        "scores = model.evaluate(X_train_norm, y_train, verbose=0)\n",
        "print(\"%s: %.2f%%\" % (model.metrics_names[1], scores[1]*100))"
      ],
      "metadata": {
        "colab": {
          "base_uri": "https://localhost:8080/"
        },
        "id": "he9xgtm0VhF6",
        "outputId": "16db82b5-042e-400a-b12e-f5686527424d"
      },
      "execution_count": null,
      "outputs": [
        {
          "output_type": "stream",
          "name": "stdout",
          "text": [
            "Created model and loaded weights from file\n",
            "compile_metrics: 97.14%\n"
          ]
        },
        {
          "output_type": "stream",
          "name": "stderr",
          "text": [
            "/usr/local/lib/python3.10/dist-packages/keras/src/layers/core/dense.py:86: UserWarning: Do not pass an `input_shape`/`input_dim` argument to a layer. When using Sequential models, prefer using an `Input(shape)` object as the first layer in the model instead.\n",
            "  super().__init__(activity_regularizer=activity_regularizer, **kwargs)\n"
          ]
        }
      ]
    },
    {
      "cell_type": "markdown",
      "source": [
        "<h2> <b> == VISUALIZE MODEL TRAINING HISTORY IN KERAS =="
      ],
      "metadata": {
        "id": "-xbvnA1KX2PY"
      }
    },
    {
      "cell_type": "code",
      "source": [
        "history_model = Sequential([\n",
        "    Dense(30, activation=\"relu\",  input_shape=(30,)),\n",
        "    Dense(30, activation=\"relu\"),\n",
        "    Dense(1, activation=\"sigmoid\")\n",
        "])\n",
        "\n",
        "adam_opt = Adam(learning_rate = 0.1)\n",
        "history_model.compile(optimizer=adam_opt, loss='binary_crossentropy', metrics=['accuracy'])\n",
        "getModel = history_model.fit(X_train_norm, y_train, epochs=10, batch_size=500, validation_split = 0.2, verbose = 0)\n",
        "\n",
        "print(getModel.history.keys())\n",
        "# summarize history for accuracy\n",
        "plt.plot(getModel.history['accuracy'])\n",
        "plt.plot(getModel.history['val_accuracy'])\n",
        "plt.title('model accuracy')\n",
        "plt.ylabel('accuracy')\n",
        "plt.xlabel('epoch')\n",
        "plt.legend(['train', 'test'], loc='upper left')\n",
        "plt.show()\n",
        "# summarize history for loss\n",
        "plt.plot(getModel.history['loss'])\n",
        "plt.plot(getModel.history['val_loss'])\n",
        "plt.title('model loss')\n",
        "plt.ylabel('loss')\n",
        "plt.xlabel('epoch')\n",
        "plt.legend(['train', 'test'], loc='upper left')\n",
        "plt.show()"
      ],
      "metadata": {
        "colab": {
          "base_uri": "https://localhost:8080/",
          "height": 944
        },
        "id": "HVCQu1ziX1uJ",
        "outputId": "fbd9d1a2-892a-4f27-96f9-f28eadcf0384"
      },
      "execution_count": null,
      "outputs": [
        {
          "output_type": "stream",
          "name": "stdout",
          "text": [
            "dict_keys(['accuracy', 'loss', 'val_accuracy', 'val_loss'])\n"
          ]
        },
        {
          "output_type": "display_data",
          "data": {
            "text/plain": [
              "<Figure size 640x480 with 1 Axes>"
            ],
            "image/png": "[encoded data removed]"
          },
          "metadata": {}
        },
        {
          "output_type": "display_data",
          "data": {
            "text/plain": [
              "<Figure size 640x480 with 1 Axes>"
            ],
            "image/png": "[encoded data removed]"
          },
          "metadata": {}
        }
      ]
    },
    {
      "cell_type": "markdown",
      "source": [
        "<h2> <b> == DROPOUT REGULARIZATION =="
      ],
      "metadata": {
        "id": "7vKOrIBIbSEc"
      }
    },
    {
      "cell_type": "code",
      "source": [
        "from pandas import read_csv\n",
        "from tensorflow.keras.models import Sequential\n",
        "from tensorflow.keras.layers import Dense\n",
        "from tensorflow.keras.optimizers import SGD\n",
        "from scikeras.wrappers import KerasClassifier\n",
        "from sklearn.model_selection import cross_val_score\n",
        "from sklearn.preprocessing import LabelEncoder\n",
        "from sklearn.model_selection import StratifiedKFold\n",
        "from sklearn.preprocessing import StandardScaler\n",
        "from sklearn.pipeline import Pipeline\n",
        "from keras.layers import Dropout"
      ],
      "metadata": {
        "id": "BSyyJTBgfyED"
      },
      "execution_count": null,
      "outputs": []
    },
    {
      "cell_type": "code",
      "source": [
        "# encode class values as integers\n",
        "encoder = LabelEncoder()\n",
        "encoder.fit(y)\n",
        "encoded_Y = encoder.transform(y)\n",
        "\n",
        "# baseline\n",
        "def create_baseline():\n",
        "\t# create model\n",
        "\tmodel = Sequential()\n",
        "\tmodel.add(Dense(30, input_shape=(30,), activation='relu'))\n",
        "\tmodel.add(Dense(30,  activation='relu'))\n",
        "\tmodel.add(Dense(1, activation='sigmoid'))\n",
        "\t# Compile model\n",
        "\tsgd = SGD(learning_rate=0.01, momentum=0.8)\n",
        "\tmodel.compile(loss='binary_crossentropy', optimizer=sgd, metrics=['accuracy'])\n",
        "\treturn model\n",
        "\n",
        "estimators = []\n",
        "estimators.append(('standardize', StandardScaler()))\n",
        "estimators.append(('mlp', KerasClassifier(model=create_baseline, epochs=10, batch_size=16, verbose=0)))\n",
        "pipeline = Pipeline(estimators)\n",
        "kfold = StratifiedKFold(n_splits=10, shuffle=True)\n",
        "results = cross_val_score(pipeline, X, encoded_Y, cv=kfold)\n",
        "print(\"Baseline: %.2f%% (%.2f%%)\" % (results.mean()*100, results.std()*100))"
      ],
      "metadata": {
        "colab": {
          "base_uri": "https://localhost:8080/"
        },
        "id": "bpQExkTph632",
        "outputId": "ab311f4d-740f-4955-e1ea-2e5dad40d376"
      },
      "execution_count": null,
      "outputs": [
        {
          "output_type": "stream",
          "name": "stderr",
          "text": [
            "/usr/local/lib/python3.10/dist-packages/sklearn/preprocessing/_label.py:97: DataConversionWarning: A column-vector y was passed when a 1d array was expected. Please change the shape of y to (n_samples, ), for example using ravel().\n",
            "  y = column_or_1d(y, warn=True)\n",
            "/usr/local/lib/python3.10/dist-packages/sklearn/preprocessing/_label.py:132: DataConversionWarning: A column-vector y was passed when a 1d array was expected. Please change the shape of y to (n_samples, ), for example using ravel().\n",
            "  y = column_or_1d(y, dtype=self.classes_.dtype, warn=True)\n",
            "/usr/local/lib/python3.10/dist-packages/keras/src/layers/core/dense.py:86: UserWarning: Do not pass an `input_shape`/`input_dim` argument to a layer. When using Sequential models, prefer using an `Input(shape)` object as the first layer in the model instead.\n",
            "  super().__init__(activity_regularizer=activity_regularizer, **kwargs)\n",
            "/usr/local/lib/python3.10/dist-packages/keras/src/layers/core/dense.py:86: UserWarning: Do not pass an `input_shape`/`input_dim` argument to a layer. When using Sequential models, prefer using an `Input(shape)` object as the first layer in the model instead.\n",
            "  super().__init__(activity_regularizer=activity_regularizer, **kwargs)\n",
            "/usr/local/lib/python3.10/dist-packages/keras/src/layers/core/dense.py:86: UserWarning: Do not pass an `input_shape`/`input_dim` argument to a layer. When using Sequential models, prefer using an `Input(shape)` object as the first layer in the model instead.\n",
            "  super().__init__(activity_regularizer=activity_regularizer, **kwargs)\n",
            "/usr/local/lib/python3.10/dist-packages/keras/src/layers/core/dense.py:86: UserWarning: Do not pass an `input_shape`/`input_dim` argument to a layer. When using Sequential models, prefer using an `Input(shape)` object as the first layer in the model instead.\n",
            "  super().__init__(activity_regularizer=activity_regularizer, **kwargs)\n",
            "/usr/local/lib/python3.10/dist-packages/keras/src/layers/core/dense.py:86: UserWarning: Do not pass an `input_shape`/`input_dim` argument to a layer. When using Sequential models, prefer using an `Input(shape)` object as the first layer in the model instead.\n",
            "  super().__init__(activity_regularizer=activity_regularizer, **kwargs)\n",
            "/usr/local/lib/python3.10/dist-packages/keras/src/layers/core/dense.py:86: UserWarning: Do not pass an `input_shape`/`input_dim` argument to a layer. When using Sequential models, prefer using an `Input(shape)` object as the first layer in the model instead.\n",
            "  super().__init__(activity_regularizer=activity_regularizer, **kwargs)\n",
            "/usr/local/lib/python3.10/dist-packages/keras/src/layers/core/dense.py:86: UserWarning: Do not pass an `input_shape`/`input_dim` argument to a layer. When using Sequential models, prefer using an `Input(shape)` object as the first layer in the model instead.\n",
            "  super().__init__(activity_regularizer=activity_regularizer, **kwargs)\n",
            "/usr/local/lib/python3.10/dist-packages/keras/src/layers/core/dense.py:86: UserWarning: Do not pass an `input_shape`/`input_dim` argument to a layer. When using Sequential models, prefer using an `Input(shape)` object as the first layer in the model instead.\n",
            "  super().__init__(activity_regularizer=activity_regularizer, **kwargs)\n",
            "/usr/local/lib/python3.10/dist-packages/keras/src/layers/core/dense.py:86: UserWarning: Do not pass an `input_shape`/`input_dim` argument to a layer. When using Sequential models, prefer using an `Input(shape)` object as the first layer in the model instead.\n",
            "  super().__init__(activity_regularizer=activity_regularizer, **kwargs)\n",
            "/usr/local/lib/python3.10/dist-packages/keras/src/layers/core/dense.py:86: UserWarning: Do not pass an `input_shape`/`input_dim` argument to a layer. When using Sequential models, prefer using an `Input(shape)` object as the first layer in the model instead.\n",
            "  super().__init__(activity_regularizer=activity_regularizer, **kwargs)\n"
          ]
        },
        {
          "output_type": "stream",
          "name": "stdout",
          "text": [
            "Baseline: 97.19% (1.61%)\n"
          ]
        }
      ]
    },
    {
      "cell_type": "markdown",
      "source": [
        "<h2> <b> == DROPOUT ON THE VISIBLE LAYER =="
      ],
      "metadata": {
        "id": "rGdJmzvBrNMJ"
      }
    },
    {
      "cell_type": "code",
      "source": [
        "from tensorflow.keras.constraints import MaxNorm"
      ],
      "metadata": {
        "id": "LGEpffimrvJY"
      },
      "execution_count": null,
      "outputs": []
    },
    {
      "cell_type": "code",
      "source": [
        "# encode class values as integers\n",
        "encoder = LabelEncoder()\n",
        "encoder.fit(y)\n",
        "encoded_Y = encoder.transform(y)\n",
        "\n",
        "# dropout in the input layer with weight constraint\n",
        "def create_model():\n",
        "\t# create model\n",
        "\tmodel = Sequential()\n",
        "\tmodel.add(Dropout(0.2, input_shape=(30,)))\n",
        "\tmodel.add(Dense(30, activation='relu', kernel_constraint=MaxNorm(3)))\n",
        "\tmodel.add(Dense(30, activation='relu', kernel_constraint=MaxNorm(3)))\n",
        "\tmodel.add(Dense(1, activation='sigmoid'))\n",
        "\t# Compile model\n",
        "\tsgd = SGD(learning_rate=0.1, momentum=0.9)\n",
        "\tmodel.compile(loss='binary_crossentropy', optimizer=sgd, metrics=['accuracy'])\n",
        "\treturn model\n",
        "\n",
        "estimators = []\n",
        "estimators.append(('standardize', StandardScaler()))\n",
        "estimators.append(('mlp', KerasClassifier(model=create_model, epochs=10, batch_size=500, verbose=0)))\n",
        "pipeline = Pipeline(estimators)\n",
        "kfold = StratifiedKFold(n_splits=10, shuffle=True)\n",
        "results = cross_val_score(pipeline, X, encoded_Y, cv=kfold)\n",
        "print(\"Visible: %.2f%% (%.2f%%)\" % (results.mean()*100, results.std()*100))"
      ],
      "metadata": {
        "colab": {
          "base_uri": "https://localhost:8080/"
        },
        "id": "zmiamDKUwXca",
        "outputId": "f0d7bc33-35a9-46f2-ee09-1c5ad0cbaa27"
      },
      "execution_count": null,
      "outputs": [
        {
          "output_type": "stream",
          "name": "stderr",
          "text": [
            "/usr/local/lib/python3.10/dist-packages/sklearn/preprocessing/_label.py:97: DataConversionWarning: A column-vector y was passed when a 1d array was expected. Please change the shape of y to (n_samples, ), for example using ravel().\n",
            "  y = column_or_1d(y, warn=True)\n",
            "/usr/local/lib/python3.10/dist-packages/sklearn/preprocessing/_label.py:132: DataConversionWarning: A column-vector y was passed when a 1d array was expected. Please change the shape of y to (n_samples, ), for example using ravel().\n",
            "  y = column_or_1d(y, dtype=self.classes_.dtype, warn=True)\n",
            "/usr/local/lib/python3.10/dist-packages/keras/src/layers/regularization/dropout.py:42: UserWarning: Do not pass an `input_shape`/`input_dim` argument to a layer. When using Sequential models, prefer using an `Input(shape)` object as the first layer in the model instead.\n",
            "  super().__init__(**kwargs)\n",
            "/usr/local/lib/python3.10/dist-packages/keras/src/layers/regularization/dropout.py:42: UserWarning: Do not pass an `input_shape`/`input_dim` argument to a layer. When using Sequential models, prefer using an `Input(shape)` object as the first layer in the model instead.\n",
            "  super().__init__(**kwargs)\n",
            "/usr/local/lib/python3.10/dist-packages/keras/src/layers/regularization/dropout.py:42: UserWarning: Do not pass an `input_shape`/`input_dim` argument to a layer. When using Sequential models, prefer using an `Input(shape)` object as the first layer in the model instead.\n",
            "  super().__init__(**kwargs)\n",
            "/usr/local/lib/python3.10/dist-packages/keras/src/layers/regularization/dropout.py:42: UserWarning: Do not pass an `input_shape`/`input_dim` argument to a layer. When using Sequential models, prefer using an `Input(shape)` object as the first layer in the model instead.\n",
            "  super().__init__(**kwargs)\n",
            "/usr/local/lib/python3.10/dist-packages/keras/src/layers/regularization/dropout.py:42: UserWarning: Do not pass an `input_shape`/`input_dim` argument to a layer. When using Sequential models, prefer using an `Input(shape)` object as the first layer in the model instead.\n",
            "  super().__init__(**kwargs)\n",
            "/usr/local/lib/python3.10/dist-packages/keras/src/layers/regularization/dropout.py:42: UserWarning: Do not pass an `input_shape`/`input_dim` argument to a layer. When using Sequential models, prefer using an `Input(shape)` object as the first layer in the model instead.\n",
            "  super().__init__(**kwargs)\n",
            "/usr/local/lib/python3.10/dist-packages/keras/src/layers/regularization/dropout.py:42: UserWarning: Do not pass an `input_shape`/`input_dim` argument to a layer. When using Sequential models, prefer using an `Input(shape)` object as the first layer in the model instead.\n",
            "  super().__init__(**kwargs)\n",
            "/usr/local/lib/python3.10/dist-packages/keras/src/layers/regularization/dropout.py:42: UserWarning: Do not pass an `input_shape`/`input_dim` argument to a layer. When using Sequential models, prefer using an `Input(shape)` object as the first layer in the model instead.\n",
            "  super().__init__(**kwargs)\n",
            "/usr/local/lib/python3.10/dist-packages/keras/src/layers/regularization/dropout.py:42: UserWarning: Do not pass an `input_shape`/`input_dim` argument to a layer. When using Sequential models, prefer using an `Input(shape)` object as the first layer in the model instead.\n",
            "  super().__init__(**kwargs)\n",
            "/usr/local/lib/python3.10/dist-packages/keras/src/layers/regularization/dropout.py:42: UserWarning: Do not pass an `input_shape`/`input_dim` argument to a layer. When using Sequential models, prefer using an `Input(shape)` object as the first layer in the model instead.\n",
            "  super().__init__(**kwargs)\n"
          ]
        },
        {
          "output_type": "stream",
          "name": "stdout",
          "text": [
            "Visible: 96.48% (2.36%)\n"
          ]
        }
      ]
    },
    {
      "cell_type": "markdown",
      "source": [
        "<h2> <b> == DROPOUT ON THE HIDDEN LAYER =="
      ],
      "metadata": {
        "id": "qdvUvNay-oeX"
      }
    },
    {
      "cell_type": "code",
      "source": [
        "# encode class values as integers\n",
        "encoder = LabelEncoder()\n",
        "encoder.fit(y)\n",
        "encoded_Y = encoder.transform(y)\n",
        "\n",
        "# dropout in hidden layers with weight constraint\n",
        "def create_model():\n",
        "\t# create model\n",
        "\tmodel = Sequential()\n",
        "\tmodel.add(Dense(30, input_shape=(30,), activation='relu', kernel_constraint=MaxNorm(3)))\n",
        "\tmodel.add(Dropout(0.2))\n",
        "\tmodel.add(Dense(30, activation='relu', kernel_constraint=MaxNorm(3)))\n",
        "\tmodel.add(Dropout(0.2))\n",
        "\tmodel.add(Dense(1, activation='sigmoid'))\n",
        "\t# Compile model\n",
        "\tsgd = SGD(learning_rate=0.1, momentum=0.9)\n",
        "\tmodel.compile(loss='binary_crossentropy', optimizer=sgd, metrics=['accuracy'])\n",
        "\treturn model\n",
        "\n",
        "estimators = []\n",
        "estimators.append(('standardize', StandardScaler()))\n",
        "estimators.append(('mlp', KerasClassifier(model=create_model, epochs=10, batch_size=16, verbose=0)))\n",
        "pipeline = Pipeline(estimators)\n",
        "kfold = StratifiedKFold(n_splits=10, shuffle=True)\n",
        "results = cross_val_score(pipeline, X, encoded_Y, cv=kfold)\n",
        "print(\"Hidden: %.2f%% (%.2f%%)\" % (results.mean()*100, results.std()*100))"
      ],
      "metadata": {
        "colab": {
          "base_uri": "https://localhost:8080/"
        },
        "id": "5xHIlqow-nn7",
        "outputId": "c811e6c8-ac24-4b3e-b836-90a2613542a1"
      },
      "execution_count": null,
      "outputs": [
        {
          "output_type": "stream",
          "name": "stderr",
          "text": [
            "/usr/local/lib/python3.10/dist-packages/sklearn/preprocessing/_label.py:97: DataConversionWarning: A column-vector y was passed when a 1d array was expected. Please change the shape of y to (n_samples, ), for example using ravel().\n",
            "  y = column_or_1d(y, warn=True)\n",
            "/usr/local/lib/python3.10/dist-packages/sklearn/preprocessing/_label.py:132: DataConversionWarning: A column-vector y was passed when a 1d array was expected. Please change the shape of y to (n_samples, ), for example using ravel().\n",
            "  y = column_or_1d(y, dtype=self.classes_.dtype, warn=True)\n",
            "/usr/local/lib/python3.10/dist-packages/keras/src/layers/core/dense.py:86: UserWarning: Do not pass an `input_shape`/`input_dim` argument to a layer. When using Sequential models, prefer using an `Input(shape)` object as the first layer in the model instead.\n",
            "  super().__init__(activity_regularizer=activity_regularizer, **kwargs)\n",
            "/usr/local/lib/python3.10/dist-packages/keras/src/layers/core/dense.py:86: UserWarning: Do not pass an `input_shape`/`input_dim` argument to a layer. When using Sequential models, prefer using an `Input(shape)` object as the first layer in the model instead.\n",
            "  super().__init__(activity_regularizer=activity_regularizer, **kwargs)\n",
            "/usr/local/lib/python3.10/dist-packages/keras/src/layers/core/dense.py:86: UserWarning: Do not pass an `input_shape`/`input_dim` argument to a layer. When using Sequential models, prefer using an `Input(shape)` object as the first layer in the model instead.\n",
            "  super().__init__(activity_regularizer=activity_regularizer, **kwargs)\n",
            "/usr/local/lib/python3.10/dist-packages/keras/src/layers/core/dense.py:86: UserWarning: Do not pass an `input_shape`/`input_dim` argument to a layer. When using Sequential models, prefer using an `Input(shape)` object as the first layer in the model instead.\n",
            "  super().__init__(activity_regularizer=activity_regularizer, **kwargs)\n",
            "/usr/local/lib/python3.10/dist-packages/keras/src/layers/core/dense.py:86: UserWarning: Do not pass an `input_shape`/`input_dim` argument to a layer. When using Sequential models, prefer using an `Input(shape)` object as the first layer in the model instead.\n",
            "  super().__init__(activity_regularizer=activity_regularizer, **kwargs)\n",
            "/usr/local/lib/python3.10/dist-packages/keras/src/layers/core/dense.py:86: UserWarning: Do not pass an `input_shape`/`input_dim` argument to a layer. When using Sequential models, prefer using an `Input(shape)` object as the first layer in the model instead.\n",
            "  super().__init__(activity_regularizer=activity_regularizer, **kwargs)\n",
            "/usr/local/lib/python3.10/dist-packages/keras/src/layers/core/dense.py:86: UserWarning: Do not pass an `input_shape`/`input_dim` argument to a layer. When using Sequential models, prefer using an `Input(shape)` object as the first layer in the model instead.\n",
            "  super().__init__(activity_regularizer=activity_regularizer, **kwargs)\n",
            "/usr/local/lib/python3.10/dist-packages/keras/src/layers/core/dense.py:86: UserWarning: Do not pass an `input_shape`/`input_dim` argument to a layer. When using Sequential models, prefer using an `Input(shape)` object as the first layer in the model instead.\n",
            "  super().__init__(activity_regularizer=activity_regularizer, **kwargs)\n",
            "/usr/local/lib/python3.10/dist-packages/keras/src/layers/core/dense.py:86: UserWarning: Do not pass an `input_shape`/`input_dim` argument to a layer. When using Sequential models, prefer using an `Input(shape)` object as the first layer in the model instead.\n",
            "  super().__init__(activity_regularizer=activity_regularizer, **kwargs)\n",
            "/usr/local/lib/python3.10/dist-packages/keras/src/layers/core/dense.py:86: UserWarning: Do not pass an `input_shape`/`input_dim` argument to a layer. When using Sequential models, prefer using an `Input(shape)` object as the first layer in the model instead.\n",
            "  super().__init__(activity_regularizer=activity_regularizer, **kwargs)\n"
          ]
        },
        {
          "output_type": "stream",
          "name": "stdout",
          "text": [
            "Hidden: 97.19% (1.61%)\n"
          ]
        }
      ]
    },
    {
      "cell_type": "markdown",
      "source": [
        "<h2> <b> == TIME BASED LEARNING RATE SCHEDULE =="
      ],
      "metadata": {
        "id": "wyesyPr82O--"
      }
    },
    {
      "cell_type": "code",
      "source": [
        "from tensorflow.keras.optimizers import SGD"
      ],
      "metadata": {
        "id": "kMwgY7ab15qr"
      },
      "execution_count": null,
      "outputs": []
    },
    {
      "cell_type": "code",
      "source": [
        "encoder = LabelEncoder()\n",
        "encoder.fit(y)\n",
        "Y = encoder.transform(y)\n",
        "# create model\n",
        "model = Sequential()\n",
        "model.add(Dense(30, input_shape=(30,), activation='relu'))\n",
        "model.add(Dense(1, activation='sigmoid'))\n",
        "# Compile model\n",
        "epochs = 10\n",
        "learning_rate = 0.1\n",
        "decay_rate = learning_rate / epochs\n",
        "momentum = 0.8\n",
        "sgd = SGD(learning_rate=learning_rate, momentum=momentum, decay=decay_rate, nesterov=False)\n",
        "model.compile(loss='binary_crossentropy', optimizer=sgd, metrics=['accuracy'])\n",
        "# Fit the model\n",
        "model.fit(X, Y, validation_split=0.33, epochs=epochs, batch_size=500, verbose=2)"
      ],
      "metadata": {
        "colab": {
          "base_uri": "https://localhost:8080/"
        },
        "id": "3B7h8ebG1ZL2",
        "outputId": "78335621-fe80-4294-86ad-a532c58c925c"
      },
      "execution_count": null,
      "outputs": [
        {
          "output_type": "stream",
          "name": "stdout",
          "text": [
            "Epoch 1/10\n"
          ]
        },
        {
          "output_type": "stream",
          "name": "stderr",
          "text": [
            "/usr/local/lib/python3.10/dist-packages/sklearn/preprocessing/_label.py:97: DataConversionWarning: A column-vector y was passed when a 1d array was expected. Please change the shape of y to (n_samples, ), for example using ravel().\n",
            "  y = column_or_1d(y, warn=True)\n",
            "/usr/local/lib/python3.10/dist-packages/sklearn/preprocessing/_label.py:132: DataConversionWarning: A column-vector y was passed when a 1d array was expected. Please change the shape of y to (n_samples, ), for example using ravel().\n",
            "  y = column_or_1d(y, dtype=self.classes_.dtype, warn=True)\n",
            "/usr/local/lib/python3.10/dist-packages/keras/src/layers/core/dense.py:86: UserWarning: Do not pass an `input_shape`/`input_dim` argument to a layer. When using Sequential models, prefer using an `Input(shape)` object as the first layer in the model instead.\n",
            "  super().__init__(activity_regularizer=activity_regularizer, **kwargs)\n",
            "/usr/local/lib/python3.10/dist-packages/keras/src/optimizers/base_optimizer.py:34: UserWarning: Argument `decay` is no longer supported and will be ignored.\n",
            "  warnings.warn(\n"
          ]
        },
        {
          "output_type": "stream",
          "name": "stdout",
          "text": [
            "1/1 - 2s - 2s/step - accuracy: 0.4436 - loss: 223.4457 - val_accuracy: 0.7713 - val_loss: 154934.7656\n",
            "Epoch 2/10\n",
            "1/1 - 0s - 313ms/step - accuracy: 0.5564 - loss: 276308.1875 - val_accuracy: 0.2287 - val_loss: 7.2899\n",
            "Epoch 3/10\n",
            "1/1 - 0s - 61ms/step - accuracy: 0.4436 - loss: 5.1882 - val_accuracy: 0.7713 - val_loss: 0.6645\n",
            "Epoch 4/10\n",
            "1/1 - 0s - 58ms/step - accuracy: 0.5564 - loss: 0.6884 - val_accuracy: 0.7713 - val_loss: 0.6532\n",
            "Epoch 5/10\n",
            "1/1 - 0s - 54ms/step - accuracy: 0.5564 - loss: 0.6873 - val_accuracy: 0.7713 - val_loss: 0.6443\n",
            "Epoch 6/10\n",
            "1/1 - 0s - 57ms/step - accuracy: 0.5564 - loss: 0.6869 - val_accuracy: 0.7713 - val_loss: 0.6372\n",
            "Epoch 7/10\n",
            "1/1 - 0s - 58ms/step - accuracy: 0.5564 - loss: 0.6868 - val_accuracy: 0.7713 - val_loss: 0.6318\n",
            "Epoch 8/10\n",
            "1/1 - 0s - 137ms/step - accuracy: 0.5564 - loss: 0.6869 - val_accuracy: 0.7713 - val_loss: 0.6277\n",
            "Epoch 9/10\n",
            "1/1 - 0s - 61ms/step - accuracy: 0.5564 - loss: 0.6871 - val_accuracy: 0.7713 - val_loss: 0.6247\n",
            "Epoch 10/10\n",
            "1/1 - 0s - 63ms/step - accuracy: 0.5564 - loss: 0.6873 - val_accuracy: 0.7713 - val_loss: 0.6227\n"
          ]
        },
        {
          "output_type": "execute_result",
          "data": {
            "text/plain": [
              "<keras.src.callbacks.history.History at 0x7f25ee840640>"
            ]
          },
          "metadata": {},
          "execution_count": 42
        }
      ]
    },
    {
      "cell_type": "markdown",
      "source": [
        "<h2> <b> == DROP BASED LEARNING RATE SCHEDULE =="
      ],
      "metadata": {
        "id": "dNdJPFlh3hGt"
      }
    },
    {
      "cell_type": "code",
      "source": [
        "import math\n",
        "from tensorflow.keras.callbacks import LearningRateScheduler"
      ],
      "metadata": {
        "id": "0jL97Mhm3qO7"
      },
      "execution_count": null,
      "outputs": []
    },
    {
      "cell_type": "code",
      "source": [
        "# learning rate schedule\n",
        "def step_decay(epoch):\n",
        "\tinitial_lrate = 0.1\n",
        "\tdrop = 0.5\n",
        "\tepochs_drop = 10.0\n",
        "\tlrate = initial_lrate * math.pow(drop, math.floor((1+epoch)/epochs_drop))\n",
        "\treturn lrate"
      ],
      "metadata": {
        "id": "fw3bSkB13h9F"
      },
      "execution_count": null,
      "outputs": []
    },
    {
      "cell_type": "code",
      "source": [
        "encoder = LabelEncoder()\n",
        "encoder.fit(Y)\n",
        "Y = encoder.transform(Y)\n",
        "# create model\n",
        "model = Sequential()\n",
        "model.add(Dense(30, input_shape=(30,), activation='relu'))\n",
        "model.add(Dense(1, activation='sigmoid'))\n",
        "# Compile model\n",
        "sgd = SGD(learning_rate=0.0, momentum=0.9)\n",
        "model.compile(loss='binary_crossentropy', optimizer=sgd, metrics=['accuracy'])\n",
        "# learning schedule callback\n",
        "lrate = LearningRateScheduler(step_decay)\n",
        "callbacks_list = [lrate]\n",
        "# Fit the model\n",
        "model.fit(X, Y, validation_split=0.33, epochs=10, batch_size=500, callbacks=callbacks_list, verbose=2)"
      ],
      "metadata": {
        "colab": {
          "base_uri": "https://localhost:8080/"
        },
        "id": "kYzd2Fa_3jBO",
        "outputId": "af8f73e5-bd67-4bfb-b231-b6a6a1214c09"
      },
      "execution_count": null,
      "outputs": [
        {
          "output_type": "stream",
          "name": "stdout",
          "text": [
            "Epoch 1/10\n"
          ]
        },
        {
          "output_type": "stream",
          "name": "stderr",
          "text": [
            "/usr/local/lib/python3.10/dist-packages/keras/src/layers/core/dense.py:86: UserWarning: Do not pass an `input_shape`/`input_dim` argument to a layer. When using Sequential models, prefer using an `Input(shape)` object as the first layer in the model instead.\n",
            "  super().__init__(activity_regularizer=activity_regularizer, **kwargs)\n"
          ]
        },
        {
          "output_type": "stream",
          "name": "stdout",
          "text": [
            "1/1 - 1s - 923ms/step - accuracy: 0.4436 - loss: 75.3332 - val_accuracy: 0.7713 - val_loss: 120850.8438 - learning_rate: 0.1000\n",
            "Epoch 2/10\n",
            "1/1 - 0s - 105ms/step - accuracy: 0.5564 - loss: 215583.5938 - val_accuracy: 0.7713 - val_loss: 0.6770 - learning_rate: 0.1000\n",
            "Epoch 3/10\n",
            "1/1 - 0s - 55ms/step - accuracy: 0.5564 - loss: 0.6902 - val_accuracy: 0.7713 - val_loss: 0.6746 - learning_rate: 0.1000\n",
            "Epoch 4/10\n",
            "1/1 - 0s - 50ms/step - accuracy: 0.5564 - loss: 0.6898 - val_accuracy: 0.7713 - val_loss: 0.6715 - learning_rate: 0.1000\n",
            "Epoch 5/10\n",
            "1/1 - 0s - 59ms/step - accuracy: 0.5564 - loss: 0.6893 - val_accuracy: 0.7713 - val_loss: 0.6679 - learning_rate: 0.1000\n",
            "Epoch 6/10\n",
            "1/1 - 0s - 130ms/step - accuracy: 0.5564 - loss: 0.6888 - val_accuracy: 0.7713 - val_loss: 0.6639 - learning_rate: 0.1000\n",
            "Epoch 7/10\n",
            "1/1 - 0s - 53ms/step - accuracy: 0.5564 - loss: 0.6883 - val_accuracy: 0.7713 - val_loss: 0.6597 - learning_rate: 0.1000\n",
            "Epoch 8/10\n",
            "1/1 - 0s - 71ms/step - accuracy: 0.5564 - loss: 0.6879 - val_accuracy: 0.7713 - val_loss: 0.6554 - learning_rate: 0.1000\n",
            "Epoch 9/10\n",
            "1/1 - 0s - 151ms/step - accuracy: 0.5564 - loss: 0.6875 - val_accuracy: 0.7713 - val_loss: 0.6512 - learning_rate: 0.1000\n",
            "Epoch 10/10\n",
            "1/1 - 0s - 129ms/step - accuracy: 0.5564 - loss: 0.6872 - val_accuracy: 0.7713 - val_loss: 0.6473 - learning_rate: 0.0500\n"
          ]
        },
        {
          "output_type": "execute_result",
          "data": {
            "text/plain": [
              "<keras.src.callbacks.history.History at 0x7f25f52c0d90>"
            ]
          },
          "metadata": {},
          "execution_count": 39
        }
      ]
    },
    {
      "cell_type": "markdown",
      "source": [
        "<h2> <b> == CONCLUSION =="
      ],
      "metadata": {
        "id": "aXvHLoWTfxJu"
      }
    },
    {
      "cell_type": "markdown",
      "source": [
        "In this activity, I have found a dataset that suits the instructions perfectly, and also goes well in terms of accuracy, which required little preprocessing and still yielded good results. I found it interesting how I could save the models into my google drive, which is very useful as we this means we can also load them up in other activities if needed. Though I had to make several tweaks to the code to make this whole activity work, it was fun knowing how far deep learning has come, as some methods aren't working anymore and I have found new ways to do what the instructions indicates.\n",
        "\n",
        "Moving onto the procedure itself, the best neural network checkpoint seemed to be the most useful as a whole, as we can save, as the name suggests, the best neural network model that it can provide. This lessens the files to save, eating up storage. Visualizing the history can also be helpful to see how the model is doing, if some necessary changes have to be done, and also avoid having to look through all the numerical results that can be seen once the code blocks are done running when the verbose is set to 0.\n",
        "\n",
        "Up next is dropout, which can also be helpful in improving generalization, further fixing the issues regarding overfitting. We all know how overfitting affects the performance of our models, so having this extra protective measure aside from scaling the data could be very useful, especially in larger datasets. Lastly, both time based and drop based learning rates can be used that convergence will be more secure, as it lowers the learning rate as the training goes by. This also means that we won't be overshooting the optimal solution, making our model more effective.\n",
        "\n",
        "Overall, this activity taught me more ways to work with my models, and I will be using these in future activities as well. Knowing how these different functions work create a solid foundation on how we understand models, and even if we won't use them all the time, it's still good to know specific features that may come in handy at some point in our deep learning studies."
      ],
      "metadata": {
        "id": "9Y70JzSKf1En"
      }
    }
  ]
}