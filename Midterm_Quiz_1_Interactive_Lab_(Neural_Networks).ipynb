{
  "nbformat": 4,
  "nbformat_minor": 0,
  "metadata": {
    "colab": {
      "provenance": []
    },
    "kernelspec": {
      "name": "python3",
      "display_name": "Python 3"
    },
    "language_info": {
      "name": "python"
    }
  },
  "cells": [
    {
      "cell_type": "markdown",
      "source": [
        "MIDTERM | QUIZ 1\n",
        "--- | ---\n",
        "Name: | **Feliciano, Kurt Martin**<br>\n",
        "Course and Section: | **CPE 019 - CPE32S3**<br>\n",
        "Instructor: | **Engr. Roman Richard**<br>\n",
        "<hr> | <hr>"
      ],
      "metadata": {
        "id": "igE60J6Y2U4J"
      }
    },
    {
      "cell_type": "markdown",
      "source": [
        "<h4>\n",
        "<b>Instructions:</b>\n",
        "\n",
        "Use this provided dataset: PhiUSIIL Phishing URL (Website) - UCI Machine Learning RepositoryLinks to an external site.<br><br>\n",
        "Perform:<br>\n",
        "Task 1: Exploratory Data Analysis (Cleaning + Prepping the dataset)<br>\n",
        "Task 2: Data modelling using ANN"
      ],
      "metadata": {
        "id": "hEBGEopy3S0J"
      }
    },
    {
      "cell_type": "code",
      "execution_count": 2,
      "metadata": {
        "colab": {
          "base_uri": "https://localhost:8080/"
        },
        "id": "_Izanyrl2Q19",
        "outputId": "81a52632-eda5-4c24-b9ee-f6079702b0e0"
      },
      "outputs": [
        {
          "output_type": "stream",
          "name": "stdout",
          "text": [
            "Collecting ucimlrepo\n",
            "  Downloading ucimlrepo-0.0.6-py3-none-any.whl (8.0 kB)\n",
            "Installing collected packages: ucimlrepo\n",
            "Successfully installed ucimlrepo-0.0.6\n"
          ]
        }
      ],
      "source": [
        "# necessary procedure to fetch the dataset\n",
        "!pip install ucimlrepo"
      ]
    },
    {
      "cell_type": "code",
      "source": [
        "from ucimlrepo import fetch_ucirepo\n",
        "\n",
        "# fetch dataset\n",
        "phiusiil_phishing_url_website = fetch_ucirepo(id=967)\n",
        "\n",
        "# data (as pandas dataframes)\n",
        "X = phiusiil_phishing_url_website.data.features\n",
        "y = phiusiil_phishing_url_website.data.targets\n",
        "\n",
        "# metadata\n",
        "print(phiusiil_phishing_url_website.metadata)\n",
        "\n",
        "# variable information\n",
        "print(phiusiil_phishing_url_website.variables)\n"
      ],
      "metadata": {
        "id": "CnaskMvN22XY"
      },
      "execution_count": null,
      "outputs": []
    },
    {
      "cell_type": "code",
      "source": [
        "# checking for missing data is no longer needed, as the page\n",
        "# already claims it doesn't have any.\n",
        "\n",
        "# check datatype for preprocessing\n",
        "X.info()"
      ],
      "metadata": {
        "colab": {
          "base_uri": "https://localhost:8080/"
        },
        "id": "tlt2-pO15zFh",
        "outputId": "bf91f4ba-05bb-4450-a7b8-cf333db9aa3d"
      },
      "execution_count": 21,
      "outputs": [
        {
          "output_type": "stream",
          "name": "stdout",
          "text": [
            "<class 'pandas.core.frame.DataFrame'>\n",
            "RangeIndex: 235795 entries, 0 to 235794\n",
            "Data columns (total 54 columns):\n",
            " #   Column                      Non-Null Count   Dtype  \n",
            "---  ------                      --------------   -----  \n",
            " 0   URL                         235795 non-null  object \n",
            " 1   URLLength                   235795 non-null  int64  \n",
            " 2   Domain                      235795 non-null  object \n",
            " 3   DomainLength                235795 non-null  int64  \n",
            " 4   IsDomainIP                  235795 non-null  int64  \n",
            " 5   TLD                         235795 non-null  object \n",
            " 6   URLSimilarityIndex          235795 non-null  float64\n",
            " 7   CharContinuationRate        235795 non-null  float64\n",
            " 8   TLDLegitimateProb           235795 non-null  float64\n",
            " 9   URLCharProb                 235795 non-null  float64\n",
            " 10  TLDLength                   235795 non-null  int64  \n",
            " 11  NoOfSubDomain               235795 non-null  int64  \n",
            " 12  HasObfuscation              235795 non-null  int64  \n",
            " 13  NoOfObfuscatedChar          235795 non-null  int64  \n",
            " 14  ObfuscationRatio            235795 non-null  float64\n",
            " 15  NoOfLettersInURL            235795 non-null  int64  \n",
            " 16  LetterRatioInURL            235795 non-null  float64\n",
            " 17  NoOfDegitsInURL             235795 non-null  int64  \n",
            " 18  DegitRatioInURL             235795 non-null  float64\n",
            " 19  NoOfEqualsInURL             235795 non-null  int64  \n",
            " 20  NoOfQMarkInURL              235795 non-null  int64  \n",
            " 21  NoOfAmpersandInURL          235795 non-null  int64  \n",
            " 22  NoOfOtherSpecialCharsInURL  235795 non-null  int64  \n",
            " 23  SpacialCharRatioInURL       235795 non-null  float64\n",
            " 24  IsHTTPS                     235795 non-null  int64  \n",
            " 25  LineOfCode                  235795 non-null  int64  \n",
            " 26  LargestLineLength           235795 non-null  int64  \n",
            " 27  HasTitle                    235795 non-null  int64  \n",
            " 28  Title                       235795 non-null  object \n",
            " 29  DomainTitleMatchScore       235795 non-null  float64\n",
            " 30  URLTitleMatchScore          235795 non-null  float64\n",
            " 31  HasFavicon                  235795 non-null  int64  \n",
            " 32  Robots                      235795 non-null  int64  \n",
            " 33  IsResponsive                235795 non-null  int64  \n",
            " 34  NoOfURLRedirect             235795 non-null  int64  \n",
            " 35  NoOfSelfRedirect            235795 non-null  int64  \n",
            " 36  HasDescription              235795 non-null  int64  \n",
            " 37  NoOfPopup                   235795 non-null  int64  \n",
            " 38  NoOfiFrame                  235795 non-null  int64  \n",
            " 39  HasExternalFormSubmit       235795 non-null  int64  \n",
            " 40  HasSocialNet                235795 non-null  int64  \n",
            " 41  HasSubmitButton             235795 non-null  int64  \n",
            " 42  HasHiddenFields             235795 non-null  int64  \n",
            " 43  HasPasswordField            235795 non-null  int64  \n",
            " 44  Bank                        235795 non-null  int64  \n",
            " 45  Pay                         235795 non-null  int64  \n",
            " 46  Crypto                      235795 non-null  int64  \n",
            " 47  HasCopyrightInfo            235795 non-null  int64  \n",
            " 48  NoOfImage                   235795 non-null  int64  \n",
            " 49  NoOfCSS                     235795 non-null  int64  \n",
            " 50  NoOfJS                      235795 non-null  int64  \n",
            " 51  NoOfSelfRef                 235795 non-null  int64  \n",
            " 52  NoOfEmptyRef                235795 non-null  int64  \n",
            " 53  NoOfExternalRef             235795 non-null  int64  \n",
            "dtypes: float64(10), int64(40), object(4)\n",
            "memory usage: 97.1+ MB\n"
          ]
        }
      ]
    },
    {
      "cell_type": "code",
      "source": [
        "X = X.drop(\"URL\", axis = 1)"
      ],
      "metadata": {
        "id": "JA96lno_CuoY"
      },
      "execution_count": null,
      "outputs": []
    },
    {
      "cell_type": "code",
      "source": [
        "X = X.drop(\"Domain\", axis = 1)\n",
        "X = X.drop(\"TLD\", axis = 1)\n",
        "X = X.drop(\"Title\", axis = 1)"
      ],
      "metadata": {
        "id": "bhl0VbwhDeA_"
      },
      "execution_count": 25,
      "outputs": []
    },
    {
      "cell_type": "code",
      "source": [
        "# verify if the object columns have been dropped\n",
        "X.info()"
      ],
      "metadata": {
        "colab": {
          "base_uri": "https://localhost:8080/"
        },
        "id": "TVxIoE-zDygn",
        "outputId": "af63148e-ada4-4be8-9d31-8653236c0253"
      },
      "execution_count": 27,
      "outputs": [
        {
          "output_type": "stream",
          "name": "stdout",
          "text": [
            "<class 'pandas.core.frame.DataFrame'>\n",
            "RangeIndex: 235795 entries, 0 to 235794\n",
            "Data columns (total 50 columns):\n",
            " #   Column                      Non-Null Count   Dtype  \n",
            "---  ------                      --------------   -----  \n",
            " 0   URLLength                   235795 non-null  int64  \n",
            " 1   DomainLength                235795 non-null  int64  \n",
            " 2   IsDomainIP                  235795 non-null  int64  \n",
            " 3   URLSimilarityIndex          235795 non-null  float64\n",
            " 4   CharContinuationRate        235795 non-null  float64\n",
            " 5   TLDLegitimateProb           235795 non-null  float64\n",
            " 6   URLCharProb                 235795 non-null  float64\n",
            " 7   TLDLength                   235795 non-null  int64  \n",
            " 8   NoOfSubDomain               235795 non-null  int64  \n",
            " 9   HasObfuscation              235795 non-null  int64  \n",
            " 10  NoOfObfuscatedChar          235795 non-null  int64  \n",
            " 11  ObfuscationRatio            235795 non-null  float64\n",
            " 12  NoOfLettersInURL            235795 non-null  int64  \n",
            " 13  LetterRatioInURL            235795 non-null  float64\n",
            " 14  NoOfDegitsInURL             235795 non-null  int64  \n",
            " 15  DegitRatioInURL             235795 non-null  float64\n",
            " 16  NoOfEqualsInURL             235795 non-null  int64  \n",
            " 17  NoOfQMarkInURL              235795 non-null  int64  \n",
            " 18  NoOfAmpersandInURL          235795 non-null  int64  \n",
            " 19  NoOfOtherSpecialCharsInURL  235795 non-null  int64  \n",
            " 20  SpacialCharRatioInURL       235795 non-null  float64\n",
            " 21  IsHTTPS                     235795 non-null  int64  \n",
            " 22  LineOfCode                  235795 non-null  int64  \n",
            " 23  LargestLineLength           235795 non-null  int64  \n",
            " 24  HasTitle                    235795 non-null  int64  \n",
            " 25  DomainTitleMatchScore       235795 non-null  float64\n",
            " 26  URLTitleMatchScore          235795 non-null  float64\n",
            " 27  HasFavicon                  235795 non-null  int64  \n",
            " 28  Robots                      235795 non-null  int64  \n",
            " 29  IsResponsive                235795 non-null  int64  \n",
            " 30  NoOfURLRedirect             235795 non-null  int64  \n",
            " 31  NoOfSelfRedirect            235795 non-null  int64  \n",
            " 32  HasDescription              235795 non-null  int64  \n",
            " 33  NoOfPopup                   235795 non-null  int64  \n",
            " 34  NoOfiFrame                  235795 non-null  int64  \n",
            " 35  HasExternalFormSubmit       235795 non-null  int64  \n",
            " 36  HasSocialNet                235795 non-null  int64  \n",
            " 37  HasSubmitButton             235795 non-null  int64  \n",
            " 38  HasHiddenFields             235795 non-null  int64  \n",
            " 39  HasPasswordField            235795 non-null  int64  \n",
            " 40  Bank                        235795 non-null  int64  \n",
            " 41  Pay                         235795 non-null  int64  \n",
            " 42  Crypto                      235795 non-null  int64  \n",
            " 43  HasCopyrightInfo            235795 non-null  int64  \n",
            " 44  NoOfImage                   235795 non-null  int64  \n",
            " 45  NoOfCSS                     235795 non-null  int64  \n",
            " 46  NoOfJS                      235795 non-null  int64  \n",
            " 47  NoOfSelfRef                 235795 non-null  int64  \n",
            " 48  NoOfEmptyRef                235795 non-null  int64  \n",
            " 49  NoOfExternalRef             235795 non-null  int64  \n",
            "dtypes: float64(10), int64(40)\n",
            "memory usage: 89.9 MB\n"
          ]
        }
      ]
    },
    {
      "cell_type": "code",
      "source": [
        "print(X.dtypes)"
      ],
      "metadata": {
        "colab": {
          "base_uri": "https://localhost:8080/"
        },
        "id": "CiLNB3v_EBuC",
        "outputId": "536b12f5-b2b7-4bd1-d9e2-3aa73bdd429f"
      },
      "execution_count": 29,
      "outputs": [
        {
          "output_type": "stream",
          "name": "stdout",
          "text": [
            "URLLength                       int64\n",
            "DomainLength                    int64\n",
            "IsDomainIP                      int64\n",
            "URLSimilarityIndex            float64\n",
            "CharContinuationRate          float64\n",
            "TLDLegitimateProb             float64\n",
            "URLCharProb                   float64\n",
            "TLDLength                       int64\n",
            "NoOfSubDomain                   int64\n",
            "HasObfuscation                  int64\n",
            "NoOfObfuscatedChar              int64\n",
            "ObfuscationRatio              float64\n",
            "NoOfLettersInURL                int64\n",
            "LetterRatioInURL              float64\n",
            "NoOfDegitsInURL                 int64\n",
            "DegitRatioInURL               float64\n",
            "NoOfEqualsInURL                 int64\n",
            "NoOfQMarkInURL                  int64\n",
            "NoOfAmpersandInURL              int64\n",
            "NoOfOtherSpecialCharsInURL      int64\n",
            "SpacialCharRatioInURL         float64\n",
            "IsHTTPS                         int64\n",
            "LineOfCode                      int64\n",
            "LargestLineLength               int64\n",
            "HasTitle                        int64\n",
            "DomainTitleMatchScore         float64\n",
            "URLTitleMatchScore            float64\n",
            "HasFavicon                      int64\n",
            "Robots                          int64\n",
            "IsResponsive                    int64\n",
            "NoOfURLRedirect                 int64\n",
            "NoOfSelfRedirect                int64\n",
            "HasDescription                  int64\n",
            "NoOfPopup                       int64\n",
            "NoOfiFrame                      int64\n",
            "HasExternalFormSubmit           int64\n",
            "HasSocialNet                    int64\n",
            "HasSubmitButton                 int64\n",
            "HasHiddenFields                 int64\n",
            "HasPasswordField                int64\n",
            "Bank                            int64\n",
            "Pay                             int64\n",
            "Crypto                          int64\n",
            "HasCopyrightInfo                int64\n",
            "NoOfImage                       int64\n",
            "NoOfCSS                         int64\n",
            "NoOfJS                          int64\n",
            "NoOfSelfRef                     int64\n",
            "NoOfEmptyRef                    int64\n",
            "NoOfExternalRef                 int64\n",
            "dtype: object\n"
          ]
        }
      ]
    },
    {
      "cell_type": "code",
      "source": [
        "# change all floats to ints\n",
        "X = X.astype({\"URLSimilarityIndex\": int, \"CharContinuationRate\": int, \"TLDLegitimateProb\": int,\n",
        "              \"URLCharProb\": int, \"ObfuscationRatio\": int, \"LetterRatioInURL\": int,\n",
        "              \"DegitRatioInURL\": int, \"SpacialCharRatioInURL\": int, \"DomainTitleMatchScore\": int,\n",
        "              \"URLTitleMatchScore\": int})"
      ],
      "metadata": {
        "id": "pzchpfyZENEY"
      },
      "execution_count": 32,
      "outputs": []
    },
    {
      "cell_type": "code",
      "source": [
        "# verify if all datatypes are now int\n",
        "X.info()"
      ],
      "metadata": {
        "colab": {
          "base_uri": "https://localhost:8080/"
        },
        "id": "mm8Quj2QFkuq",
        "outputId": "1f2ffd95-aaa0-4ec8-ab8f-2bb39fee027d"
      },
      "execution_count": 33,
      "outputs": [
        {
          "output_type": "stream",
          "name": "stdout",
          "text": [
            "<class 'pandas.core.frame.DataFrame'>\n",
            "RangeIndex: 235795 entries, 0 to 235794\n",
            "Data columns (total 50 columns):\n",
            " #   Column                      Non-Null Count   Dtype\n",
            "---  ------                      --------------   -----\n",
            " 0   URLLength                   235795 non-null  int64\n",
            " 1   DomainLength                235795 non-null  int64\n",
            " 2   IsDomainIP                  235795 non-null  int64\n",
            " 3   URLSimilarityIndex          235795 non-null  int64\n",
            " 4   CharContinuationRate        235795 non-null  int64\n",
            " 5   TLDLegitimateProb           235795 non-null  int64\n",
            " 6   URLCharProb                 235795 non-null  int64\n",
            " 7   TLDLength                   235795 non-null  int64\n",
            " 8   NoOfSubDomain               235795 non-null  int64\n",
            " 9   HasObfuscation              235795 non-null  int64\n",
            " 10  NoOfObfuscatedChar          235795 non-null  int64\n",
            " 11  ObfuscationRatio            235795 non-null  int64\n",
            " 12  NoOfLettersInURL            235795 non-null  int64\n",
            " 13  LetterRatioInURL            235795 non-null  int64\n",
            " 14  NoOfDegitsInURL             235795 non-null  int64\n",
            " 15  DegitRatioInURL             235795 non-null  int64\n",
            " 16  NoOfEqualsInURL             235795 non-null  int64\n",
            " 17  NoOfQMarkInURL              235795 non-null  int64\n",
            " 18  NoOfAmpersandInURL          235795 non-null  int64\n",
            " 19  NoOfOtherSpecialCharsInURL  235795 non-null  int64\n",
            " 20  SpacialCharRatioInURL       235795 non-null  int64\n",
            " 21  IsHTTPS                     235795 non-null  int64\n",
            " 22  LineOfCode                  235795 non-null  int64\n",
            " 23  LargestLineLength           235795 non-null  int64\n",
            " 24  HasTitle                    235795 non-null  int64\n",
            " 25  DomainTitleMatchScore       235795 non-null  int64\n",
            " 26  URLTitleMatchScore          235795 non-null  int64\n",
            " 27  HasFavicon                  235795 non-null  int64\n",
            " 28  Robots                      235795 non-null  int64\n",
            " 29  IsResponsive                235795 non-null  int64\n",
            " 30  NoOfURLRedirect             235795 non-null  int64\n",
            " 31  NoOfSelfRedirect            235795 non-null  int64\n",
            " 32  HasDescription              235795 non-null  int64\n",
            " 33  NoOfPopup                   235795 non-null  int64\n",
            " 34  NoOfiFrame                  235795 non-null  int64\n",
            " 35  HasExternalFormSubmit       235795 non-null  int64\n",
            " 36  HasSocialNet                235795 non-null  int64\n",
            " 37  HasSubmitButton             235795 non-null  int64\n",
            " 38  HasHiddenFields             235795 non-null  int64\n",
            " 39  HasPasswordField            235795 non-null  int64\n",
            " 40  Bank                        235795 non-null  int64\n",
            " 41  Pay                         235795 non-null  int64\n",
            " 42  Crypto                      235795 non-null  int64\n",
            " 43  HasCopyrightInfo            235795 non-null  int64\n",
            " 44  NoOfImage                   235795 non-null  int64\n",
            " 45  NoOfCSS                     235795 non-null  int64\n",
            " 46  NoOfJS                      235795 non-null  int64\n",
            " 47  NoOfSelfRef                 235795 non-null  int64\n",
            " 48  NoOfEmptyRef                235795 non-null  int64\n",
            " 49  NoOfExternalRef             235795 non-null  int64\n",
            "dtypes: int64(50)\n",
            "memory usage: 89.9 MB\n"
          ]
        }
      ]
    },
    {
      "cell_type": "code",
      "source": [
        "from sklearn.neural_network import MLPClassifier\n",
        "from sklearn.model_selection import train_test_split\n",
        "from sklearn.preprocessing import StandardScaler\n",
        "from sklearn.metrics import accuracy_score, classification_report\n",
        "from sklearn.metrics import confusion_matrix, precision_recall_curve, roc_auc_score, roc_curve, accuracy_score\n",
        "from sklearn.ensemble import RandomForestClassifier\n",
        "from keras.models  import Sequential\n",
        "from keras.layers import Input, Dense, Flatten, Dropout, BatchNormalization\n",
        "from keras.optimizers import Adam, SGD, RMSprop\n",
        "import numpy as np\n",
        "import matplotlib.pyplot as plt\n",
        "\n",
        "# classify training and testing data\n",
        "X_train, X_test, y_train, y_test = train_test_split(X, y, test_size=0.4, random_state=65)\n",
        "\n",
        "# standardize features\n",
        "scaler = StandardScaler()\n",
        "X_train_norm = scaler.fit_transform(X_train)\n",
        "X_test_norm = scaler.transform(X_test)"
      ],
      "metadata": {
        "id": "BEyu12EDGEj-"
      },
      "execution_count": 70,
      "outputs": []
    },
    {
      "cell_type": "code",
      "source": [
        "model  = Sequential([\n",
        "    # Use the \"relu\" activation function for the hidden layers\n",
        "    Dense(6, input_shape=(50,), activation=\"relu\"),\n",
        "    Dense(6, activation='relu'),\n",
        "    # and \"sigmoid\" for the final layer\n",
        "    Dense(1, activation=\"sigmoid\")\n",
        "])\n",
        "# Use a learning rate of 0.003\n",
        "model.compile(SGD(lr = .03), \"binary_crossentropy\", metrics=[\"accuracy\"])\n",
        "# and train for 1500 epochs\n",
        "run_hist = model.fit(X_train_norm, y_train, validation_data=(X_test_norm, y_test), epochs=10 ,batch_size=500)"
      ],
      "metadata": {
        "colab": {
          "base_uri": "https://localhost:8080/"
        },
        "id": "p8zKVnQrHuAT",
        "outputId": "c10b68a3-cd74-4315-c300-17e17a687a8b"
      },
      "execution_count": 71,
      "outputs": [
        {
          "output_type": "stream",
          "name": "stderr",
          "text": [
            "WARNING:absl:`lr` is deprecated in Keras optimizer, please use `learning_rate` or use the legacy optimizer, e.g.,tf.keras.optimizers.legacy.SGD.\n"
          ]
        },
        {
          "output_type": "stream",
          "name": "stdout",
          "text": [
            "Epoch 1/10\n",
            "283/283 [==============================] - 2s 4ms/step - loss: 0.4186 - accuracy: 0.8655 - val_loss: 0.2698 - val_accuracy: 0.9579\n",
            "Epoch 2/10\n",
            "283/283 [==============================] - 1s 3ms/step - loss: 0.1746 - accuracy: 0.9718 - val_loss: 0.1063 - val_accuracy: 0.9805\n",
            "Epoch 3/10\n",
            "283/283 [==============================] - 1s 3ms/step - loss: 0.0761 - accuracy: 0.9837 - val_loss: 0.0571 - val_accuracy: 0.9875\n",
            "Epoch 4/10\n",
            "283/283 [==============================] - 1s 3ms/step - loss: 0.0463 - accuracy: 0.9891 - val_loss: 0.0388 - val_accuracy: 0.9909\n",
            "Epoch 5/10\n",
            "283/283 [==============================] - 1s 3ms/step - loss: 0.0332 - accuracy: 0.9918 - val_loss: 0.0291 - val_accuracy: 0.9929\n",
            "Epoch 6/10\n",
            "283/283 [==============================] - 1s 3ms/step - loss: 0.0257 - accuracy: 0.9934 - val_loss: 0.0230 - val_accuracy: 0.9942\n",
            "Epoch 7/10\n",
            "283/283 [==============================] - 1s 3ms/step - loss: 0.0208 - accuracy: 0.9947 - val_loss: 0.0189 - val_accuracy: 0.9952\n",
            "Epoch 8/10\n",
            "283/283 [==============================] - 1s 3ms/step - loss: 0.0173 - accuracy: 0.9955 - val_loss: 0.0158 - val_accuracy: 0.9959\n",
            "Epoch 9/10\n",
            "283/283 [==============================] - 1s 3ms/step - loss: 0.0148 - accuracy: 0.9961 - val_loss: 0.0136 - val_accuracy: 0.9965\n",
            "Epoch 10/10\n",
            "283/283 [==============================] - 1s 3ms/step - loss: 0.0128 - accuracy: 0.9966 - val_loss: 0.0118 - val_accuracy: 0.9970\n"
          ]
        }
      ]
    },
    {
      "cell_type": "code",
      "source": [
        "y_pred_class_nn_1 = np.argmax(model.predict(X_test_norm), axis=-1)\n",
        "y_pred_prob_nn_1 = model.predict(X_test_norm)"
      ],
      "metadata": {
        "colab": {
          "base_uri": "https://localhost:8080/"
        },
        "id": "w5EXCmEjJb86",
        "outputId": "ffb0bc7a-ce95-478d-8f60-96f3fab2e2f5"
      },
      "execution_count": 72,
      "outputs": [
        {
          "output_type": "stream",
          "name": "stdout",
          "text": [
            "2948/2948 [==============================] - 5s 2ms/step\n",
            "2948/2948 [==============================] - 4s 1ms/step\n"
          ]
        }
      ]
    },
    {
      "cell_type": "code",
      "source": [
        "fig, ax = plt.subplots()\n",
        "ax.plot(run_hist.history[\"loss\"],'r', marker='.', label=\"Train Loss\")\n",
        "ax.plot(run_hist.history[\"val_loss\"],'b', marker='.', label=\"Validation Loss\")\n",
        "ax.legend()"
      ],
      "metadata": {
        "colab": {
          "base_uri": "https://localhost:8080/",
          "height": 448
        },
        "id": "UE-bCml9KkLI",
        "outputId": "4269a25b-4b8c-4e8f-990f-0e18fc3bb798"
      },
      "execution_count": 75,
      "outputs": [
        {
          "output_type": "execute_result",
          "data": {
            "text/plain": [
              "<matplotlib.legend.Legend at 0x788d9a901de0>"
            ]
          },
          "metadata": {},
          "execution_count": 75
        },
        {
          "output_type": "display_data",
          "data": {
            "text/plain": [
              "<Figure size 640x480 with 1 Axes>"
            ],
            "image/png": "[encoded data removed]"
          },
          "metadata": {}
        }
      ]
    },
    {
      "cell_type": "code",
      "source": [
        "acc_test = model.evaluate(X_test_norm, y_test, verbose = 1)\n",
        "print(acc_test)"
      ],
      "metadata": {
        "colab": {
          "base_uri": "https://localhost:8080/"
        },
        "id": "Sc6SfpwfVBkX",
        "outputId": "d1c1282f-7711-42b3-8af8-02614b95f288"
      },
      "execution_count": 83,
      "outputs": [
        {
          "output_type": "stream",
          "name": "stdout",
          "text": [
            "2948/2948 [==============================] - 8s 3ms/step - loss: 0.0118 - accuracy: 0.9970\n",
            "[0.01179113332182169, 0.9969571232795715]\n"
          ]
        }
      ]
    },
    {
      "cell_type": "markdown",
      "source": [
        "<b><h3> Conclusion"
      ],
      "metadata": {
        "id": "uVcz7zwWV0co"
      }
    },
    {
      "cell_type": "markdown",
      "source": [
        "After performing this activity, I was able to succesfully integrate the lessons taught in the previous activities onto a new, much larger dataset that simulates how we would apply these lessons in real life. This was a great activity to practice modelling, and knowing other ways to preprocess the data depending on what type of preparation the dataset needs. For this one, I went ahead and dropped the object types and swapped out the floats to ints so that I wouldn't run into data type issues. I went ahead and re-applied the code blocks that are fit for this quiz from my previous activities, which is efficient but not ideal in a real-world setting. I still need to familiarize myself with the different functions and code blocks that were used. Overall, I still think I did a great job of making this quiz work as intended, and I hope to do it more effeciently in the future."
      ],
      "metadata": {
        "id": "qh0qd2UOV3Iw"
      }
    }
  ]
}